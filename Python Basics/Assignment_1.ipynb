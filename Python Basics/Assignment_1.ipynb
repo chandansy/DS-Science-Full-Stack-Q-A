{
 "cells": [
  {
   "cell_type": "markdown",
   "id": "fc578459",
   "metadata": {},
   "source": [
    "#### 1. In the below elements which of them are values or an expression? eg:- values can be integer or string and expressions will be mathematical operators.\n",
    "* \n",
    "'hello'\n",
    "-87.8\n",
    "- \n",
    "/ \n",
    "+\t\n",
    "6 \n",
    "\n",
    "#### Answers: \n",
    "values : 'hello',-87.8,6 <br>\n",
    "expressions : -, /, +\n"
   ]
  },
  {
   "cell_type": "markdown",
   "id": "7218dd28",
   "metadata": {},
   "source": [
    "#### 2. What is the difference between string and variable?\n",
    "#### Answer: \n",
    "String is a sequence of characters.  <br> \n",
    "example: \"apple\", \"123456789\" <br> <br>\n",
    "Variable is an entity which can take up any value. <br>\n",
    "example: fruit = \"apple\"  (here \"apple\" is string and fruit is variable)\n",
    "\n"
   ]
  },
  {
   "cell_type": "markdown",
   "id": "483111f3",
   "metadata": {},
   "source": [
    "#### 3. Describe three different data types.\n",
    "\n",
    "#### Answer:\n",
    "##### String Data type: \n",
    "A string is a sequence of characters, enclosed in quotes (either single quotes or double quotes). Strings can contain letters, numbers, and special characters. For example, \"Hello, world!\" and \"12345\" are both strings. <br>\n",
    "##### Boolean Data type:\n",
    "A boolean is a data type that can have one of two values: True or False. Booleans are often used in conditional statements to control program flow. <br>\n",
    "##### Numeric Data type :\n",
    "Numeric data type represents the data that has a numeric value. The numeric value can be an integer, floating number, or even complex number. These values are defined as int, float, and complex classes \n",
    "\n"
   ]
  },
  {
   "cell_type": "markdown",
   "id": "6f691551",
   "metadata": {},
   "source": [
    "#### 4. What is an expression made up of? What do all expressions do?\n",
    "#### Answer:\n",
    "An expression is a combination of one or more values, variables, operators, and function calls that are evaluated to produce a result. <br> <br>\n",
    "Expression can be assigned to variables, used as arguments in function calls, or used in conditional statements and loops. "
   ]
  },
  {
   "cell_type": "markdown",
   "id": "a4b10f26",
   "metadata": {},
   "source": [
    "#### 5. This assignment statements, like spam = 10. What is the difference between an expression and a statement?\n",
    "#### Answer:\n",
    "Expressions are used to produce a value, while statements are used to perform actions. An assignment statement is an example of a statement, whereas an expression can be used within a statement to produce a value."
   ]
  },
  {
   "cell_type": "markdown",
   "id": "c0f6a12e",
   "metadata": {},
   "source": [
    "#### 6. After running the following code, what does the variable bacon contain?\n",
    "#### bacon = 22\n",
    "#### bacon + 1\n",
    "\n",
    "\n",
    "#### Answer:\n",
    "22 "
   ]
  },
  {
   "cell_type": "markdown",
   "id": "8957ae28",
   "metadata": {},
   "source": [
    "#### 7. What should the values of the following two terms be? <br> 'spam' + 'spamspam' <br >'spam' * 3\n",
    "\n",
    "#### Answers:\n",
    "1) 'spamspamspam' <b>\n",
    "2) 'spamspamspam' <b>"
   ]
  },
  {
   "cell_type": "markdown",
   "id": "30451e7e",
   "metadata": {},
   "source": [
    "#### 8. Why is eggs a valid variable name while 100 is invalid?\n",
    "#### Answers:\n",
    "Because varibale name cannot start with numerical or special charaters.\n",
    "\n",
    "Variable names must follow certain rules and conventions.Follow are the rules <br>\n",
    "1.Start with a letter (a to z or A to Z) or underscore (_). <br>\n",
    "2.Be composed of letters, underscores, and/or digits (0 to 9). <br>\n",
    "3.Not be a reserved keyword in Python (e.g., \"if\", \"else\", \"while\", \"for\", etc.)."
   ]
  },
  {
   "cell_type": "markdown",
   "id": "ce4c8c9d",
   "metadata": {},
   "source": [
    "#### 9. What three functions can be used to get the integer, floating-point number, or string version of a value?\n",
    "#### Answers:\n",
    "int(): This function can be used to convert a value to an integer. If the value is a string, it should contain only numeric characters, and the function will return an integer representing the value. <br> <br>\n",
    "float(): This function can be used to convert a value to a floating-point number. If the value is a string, it should contain only numeric characters, and the function will return a floating-point number representing the value. <br> <br>\n",
    "str(): This function can be used to convert a value to a string. It will return a string representation of the value, regardless of its original data type. \n"
   ]
  },
  {
   "cell_type": "markdown",
   "id": "6e003117",
   "metadata": {},
   "source": [
    "#### 10. Why does this expression cause an error? How can you fix it? <br> 'I have eaten ' + 99 + ' burritos.'\n",
    "\n",
    "#### Answers:\n",
    "This expression causes an error because it is trying to concatenate a string ('I have eaten ') with an integer value (99) without first converting the integer to a string. <br>\n",
    "\n",
    "To fix this error, we can use the str() function to convert the integer value to a string before concatenating it with the other strings\n",
    "\n",
    "```\n",
    "'I have eaten ' + str(99) + ' burritos.'\n",
    "```\n"
   ]
  }
 ],
 "metadata": {
  "kernelspec": {
   "display_name": "Python 3 (ipykernel)",
   "language": "python",
   "name": "python3"
  },
  "language_info": {
   "codemirror_mode": {
    "name": "ipython",
    "version": 3
   },
   "file_extension": ".py",
   "mimetype": "text/x-python",
   "name": "python",
   "nbconvert_exporter": "python",
   "pygments_lexer": "ipython3",
   "version": "3.9.12"
  }
 },
 "nbformat": 4,
 "nbformat_minor": 5
}
