{
 "cells": [
  {
   "attachments": {},
   "cell_type": "markdown",
   "metadata": {},
   "source": [
    "1. Write a Python program to print &quot;Hello Python&quot;?"
   ]
  },
  {
   "cell_type": "code",
   "execution_count": 2,
   "metadata": {},
   "outputs": [
    {
     "name": "stdout",
     "output_type": "stream",
     "text": [
      "Hello Python\n"
     ]
    }
   ],
   "source": [
    "# Python code to print Hello Python\n",
    "print('Hello Python')"
   ]
  },
  {
   "attachments": {},
   "cell_type": "markdown",
   "metadata": {},
   "source": [
    "2. Write a Python program to do arithmetical operations addition and division.?"
   ]
  },
  {
   "cell_type": "code",
   "execution_count": 3,
   "metadata": {},
   "outputs": [
    {
     "name": "stdout",
     "output_type": "stream",
     "text": [
      "The sum of 2.0 and 2.0 is 4.0\n",
      "The quotient on dividing 2.0 by 2.0 is 1.0\n",
      "The remainder after dividing 2.0 by 2.0 is 0.0\n"
     ]
    }
   ],
   "source": [
    "# Python program to add two numbers\n",
    "a = float(input(\"Enter a number :\"))\n",
    "b = float(input(\"Enter another number : \"))\n",
    "\n",
    "\n",
    "# Addition operation\n",
    "Sum = a + b\n",
    "print(f\"The sum of {a} and {b} is {Sum}\")\n",
    "\n",
    "# Division operation\n",
    "Quotient = a // b\n",
    "print(f'The quotient on dividing {a} by {b} is {Quotient}')\n",
    "\n",
    "remainder = a%b\n",
    "print(f'The remainder after dividing {a} by {b} is {remainder}')"
   ]
  },
  {
   "attachments": {},
   "cell_type": "markdown",
   "metadata": {},
   "source": [
    "3. Write a Python program to find the area of a triangle?"
   ]
  },
  {
   "cell_type": "code",
   "execution_count": 4,
   "metadata": {},
   "outputs": [
    {
     "name": "stdout",
     "output_type": "stream",
     "text": [
      "The area of the triangle is: 12.0\n"
     ]
    }
   ],
   "source": [
    "base = float(input(\"Enter the base of the triangle: \"))\n",
    "height = float(input(\"Enter the height of the triangle: \"))\n",
    "\n",
    "area = 0.5 * base * height\n",
    "\n",
    "print(\"The area of the triangle is:\", area)"
   ]
  },
  {
   "attachments": {},
   "cell_type": "markdown",
   "metadata": {},
   "source": [
    "4. Write a Python program to swap two variables?"
   ]
  },
  {
   "cell_type": "code",
   "execution_count": 6,
   "metadata": {},
   "outputs": [
    {
     "name": "stdout",
     "output_type": "stream",
     "text": [
      "The values before swapping a : 6, b : 7\n",
      "The values after swapping a : 7, b : 6\n"
     ]
    }
   ],
   "source": [
    "a = input('Enter a number :')\n",
    "b = input('Enter a number :')\n",
    "\n",
    "print(f'The values before swapping a : {a}, b : {b}')\n",
    "\n",
    "temp = a\n",
    "a = b\n",
    "b = temp\n",
    "\n",
    "print(f'The values after swapping a : {a}, b : {b}')"
   ]
  },
  {
   "cell_type": "code",
   "execution_count": 8,
   "metadata": {},
   "outputs": [
    {
     "name": "stdout",
     "output_type": "stream",
     "text": [
      "The random number is: 87\n"
     ]
    }
   ],
   "source": [
    "import random\n",
    "\n",
    "# to generate a random integer between 1 and 100\n",
    "random_number = random.randint(1, 100)\n",
    "\n",
    "print(\"The random number is:\", random_number)\n"
   ]
  }
 ],
 "metadata": {
  "kernelspec": {
   "display_name": "base",
   "language": "python",
   "name": "python3"
  },
  "language_info": {
   "codemirror_mode": {
    "name": "ipython",
    "version": 3
   },
   "file_extension": ".py",
   "mimetype": "text/x-python",
   "name": "python",
   "nbconvert_exporter": "python",
   "pygments_lexer": "ipython3",
   "version": "3.9.12"
  },
  "orig_nbformat": 4
 },
 "nbformat": 4,
 "nbformat_minor": 2
}
