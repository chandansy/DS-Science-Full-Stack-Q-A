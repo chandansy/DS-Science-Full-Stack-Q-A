{
 "cells": [
  {
   "cell_type": "markdown",
   "id": "e574b1f1",
   "metadata": {},
   "source": [
    "### Assignment 2"
   ]
  },
  {
   "cell_type": "markdown",
   "id": "46f932fd",
   "metadata": {},
   "source": [
    "#### 1.What are the two values of the Boolean data type? How do you write them?\n",
    "#### Answer: \n",
    "The two values of Boolean data type is True and False."
   ]
  },
  {
   "cell_type": "markdown",
   "id": "7c462315",
   "metadata": {},
   "source": [
    "#### 2. What are the three different types of Boolean operators?\n",
    "#### Answer:\n",
    "1) AND operator: This operator returns True if and only if both the operands are True. In Python, the AND operator is represented by the keyword \"and\". <br>\n",
    "2) OR operator: This operator returns True if at least one of the operands is True. In Python, the OR operator is represented by the keyword \"or\". <br>\n",
    "3) NOT operator: This operator returns True if the operand is False, and False if the operand is True. In Python, the NOT operator is represented by the keyword \"not\".\n",
    "\n",
    "\n",
    "\n"
   ]
  },
  {
   "cell_type": "markdown",
   "id": "c7ade891",
   "metadata": {},
   "source": [
    "#### 3. Make a list of each Boolean operator's truth tables (i.e. every possible combination of Boolean values for the operator and what it evaluate ).\n",
    "\n",
    "#### Answer:\n",
    "\n",
    "AND operator truth table:\n",
    "\n",
    "| Operand 1 | Operand 2 | Result |\n",
    "| --------- | --------- | ------ |\n",
    "| True | True | True |\n",
    "| True | False | False |\n",
    "| False | True | False |\n",
    "| False\t| False | False |\n",
    "\n",
    "OR operator truth table:\n",
    "\n",
    "| Operand 1 | Operand 2 | Result |\n",
    "| --------- | --------- | ------ |\n",
    "| True      | True      | True   |\n",
    "| True      | False     | True   |\n",
    "| False     | True      | True   |\n",
    "| False     | False     | False  |\n",
    "\n",
    "\n",
    "NOT operator truth table:\n",
    "\n",
    "| Operand | Result |\n",
    "| ------- | ------ |\n",
    "| True    | False  |\n",
    "| False   | True   |\n",
    "\n",
    "These tables show the possible combinations of Boolean values for each operator and the resulting value when the operator is applied to them."
   ]
  },
  {
   "cell_type": "markdown",
   "id": "5823a178",
   "metadata": {},
   "source": [
    "#### 4. What are the values of the following expressions? <br> (5 > 4) and (3 == 5)<br> not (5 > 4)<br> (5 > 4) or (3 == 5)<br> not ((5 > 4) or (3 == 5))<br> (True and True) and (True == False)<br> (not False) or (not True)\n",
    "\n",
    "#### Answer:\n",
    "False <br> False <br> True <br> False <br> False <br> True\n"
   ]
  },
  {
   "cell_type": "markdown",
   "id": "29686c16",
   "metadata": {},
   "source": [
    "#### 5. What are the six comparison operators?\n",
    "> greater than <br>\n",
    "< less than <br>\n",
    ">= greater than or equal to <br>\n",
    "<= less than or equal to <br>\n",
    "== equal to <br>\n",
    "!= not equal to <br>"
   ]
  },
  {
   "cell_type": "markdown",
   "id": "9c36909e",
   "metadata": {},
   "source": [
    "#### 6. How do you tell the difference between the equal to and assignment operators?Describe a condition and when you would use one.\n",
    "\n",
    "#### Answer:\n",
    "The equal to operator == is used to compare two values for equality and returns a Boolean value of True or False depending on whether they are equal or not.\n",
    "\n",
    "The assignment operator = is used to assign a value to a variable.\n",
    "<br>\n",
    "\n",
    "```\n",
    "x = 5   # Here, the value 5 is assigned to the variable x\n",
    "y = 10  # Here, the value 10 is assigned to the variable y\n",
    "\n",
    "\n",
    "if x == y:\n",
    "    print(\"x is equal to y\")\n",
    "else:\n",
    "    print(\"x is not equal to y\")\n",
    "```\n",
    "<br>\n",
    "\n",
    "In the above code, we are using the equal to operator == to compare the values of x and y. If they are equal, then the message \"x is equal to y\" is printed, otherwise \"x is not equal to y\" is printed.\n",
    "\n",
    "On the other hand, if we used the assignment operator = instead of the equal to operator == in the if statement like this:\n",
    "\n",
    "\n",
    "```\n",
    "if x = y:\n",
    "    print(\"x is equal to y\")\n",
    "else:\n",
    "    print(\"x is not equal to y\")\n",
    "```\n",
    "\n",
    "<br>\n",
    "This would result in a syntax error because we cannot assign a value to a variable inside an if statement.\n",
    "\n",
    "In summary, we use the equal to operator == to compare values for equality and the assignment operator = to assign a value to a variable.\n",
    "\n"
   ]
  },
  {
   "cell_type": "markdown",
   "id": "3af29f1d",
   "metadata": {},
   "source": [
    "#### 7. Identify the three blocks in this code: <br>\n",
    "spam = 0<br>\n",
    "if spam == 10:<br>\n",
    "print('eggs')<br>\n",
    "if spam > 5:<br>\n",
    "print('bacon')<br>\n",
    "else:<br>\n",
    "print('ham')<br>\n",
    "print('spam')<br>\n",
    "print('spam')<br>\n",
    "\n",
    "#### Answer:\n",
    "The three blocks in the code are:<br>\n",
    "`\n",
    "spam = 0\n",
    "if spam == 10:\n",
    "    print('eggs')\n",
    "`\n",
    "<br>\n",
    "This is the first block of code. Here, we set the value of the variable spam to 0. Then we check if spam is equal to 10 using the if statement. Since spam is not equal to 10, the print('eggs') statement is not executed\n",
    "<br>\n",
    "`\n",
    "if spam > 5:\n",
    "    print('bacon')\n",
    "else:\n",
    "    print('ham')\n",
    "    print('spam')\n",
    "    print('spam')\n",
    "`\n",
    "<br>\n",
    "This is the second block of code. Here, we check if spam is greater than 5 using the if statement. Since spam is not greater than 5, the print('bacon') statement is not executed. Instead, the else block is executed, which contains three print statements that print 'ham', 'spam', and 'spam'.\n",
    "<br>\n",
    "`\n",
    "Output:\n",
    "ham\n",
    "spam\n",
    "spam\n",
    "`\n",
    "<br>\n",
    "The third block of code is the final three print statements, which are executed regardless of the if statements. They will always print 'spam', 'spam' on separate lines after the execution of the second block of code.\n",
    "\n"
   ]
  },
  {
   "cell_type": "markdown",
   "id": "dfa78240",
   "metadata": {},
   "source": [
    "#### 8. Write code that prints Hello if 1 is stored in spam, prints Howdy if 2 is stored in spam, and prints Greetings! if anything else is stored in spam.\n",
    "\n",
    "#### Answer:\n",
    "`\n",
    "if spam == 1:\n",
    "    print(\"Hello\")\n",
    "elif spam == 2:\n",
    "    print(\"Howdy\")\n",
    "else:\n",
    "    print(\"Greetings!\")\n",
    "`\n",
    "<br>\n",
    "In this code, we use the if-elif-else statements to check the value of spam. If the value of spam is equal to 1, it will print \"Hello\". If the value of spam is equal to 2, it will print \"Howdy\". Otherwise, if the value of spam is anything other than 1 or 2, it will print \"Greetings!\"."
   ]
  },
  {
   "cell_type": "markdown",
   "id": "fe8c69c6",
   "metadata": {},
   "source": [
    "#### 9.If your programme is stuck in an endless loop, what keys you’ll press?\n",
    "#### Answer:\n",
    "If a program is stuck in an endless loop, you can press the Ctrl + C keys.This key combination sends a \"Keyboard Interrupt\" signal to the program, which forces it to stop running."
   ]
  },
  {
   "cell_type": "markdown",
   "id": "ceff5a14",
   "metadata": {},
   "source": [
    "#### 10. How can you tell the difference between break and continue?.\n",
    "#### Answer:\n",
    "\n",
    "Break statement is used to immediately terminate a loop, skipping the rest of the iterations. When a break statement is encountered inside a loop, the loop is terminated and the program continues executing from the statement immediately following the loop. <br>\n",
    "\n",
    "Continue statement, on the other hand, is used to skip the current iteration of a loop and move on to the next iteration. When a continue statement is encountered inside a loop, the program skips any remaining statements in the loop for the current iteration, and proceeds to the next iteration."
   ]
  },
  {
   "cell_type": "markdown",
   "id": "1b5760b4",
   "metadata": {},
   "source": [
    "#### 11. In a for loop, what is the difference between range(10), range(0, 10), and range(0, 10, 1)?\n",
    "#### Answer:\n",
    "\n",
    "`range(10)`: This generates a sequence of numbers from 0 up to (but not including) 10, with a step size of 1. In other words, it is equivalent to `range(0, 10, 1)`, or simply range`(0, 10)`.\n",
    "\n",
    "`range(0, 10)`: This generates a sequence of numbers from 0 up to (but not including) 10, with a step size of 1. This is the same as `range(10)`.\n",
    "\n",
    "`range(0, 10, 1)`: This generates a sequence of numbers from 0 up to (but not including) 10, with a step size of 1. This is the same as `range(0, 10)` and `range(10)`.\n",
    "\n",
    "\n",
    "all three examples generate the same sequence of numbers in a for loop, but `range(10)` is the most concise way to specify this sequence. `range(start, stop, step)` is a more general way to generate a sequence of numbers, where start is the first number in the sequence, stop is the first number not in the sequence, and step is the difference between consecutive numbers in the sequence.\n"
   ]
  },
  {
   "cell_type": "markdown",
   "id": "d7f82009",
   "metadata": {},
   "source": [
    "#### 12. Write a short program that prints the numbers 1 to 10 using a for loop. Then write an equivalent program that prints the numbers 1 to 10 using a while loop.\n",
    "\n",
    "#### Answer:\n",
    "\n",
    "Short code:\n",
    "`\n",
    "for i in range(1, 11):\n",
    "    print(i)\n",
    "`\n",
    "\n",
    "<br>\n",
    "\n",
    "Equivalent code using while loop:\n",
    "\n",
    "\n",
    "`\n",
    "i = 1\n",
    "while i <= 10:\n",
    "    print(i)\n",
    "    i += 1\n",
    "`\n",
    "\n"
   ]
  },
  {
   "cell_type": "markdown",
   "id": "1decfb15",
   "metadata": {},
   "source": [
    "#### 13. If you had a function named bacon() inside a module named spam, how would you call it after importing spam?\n",
    "#### Answer:\n",
    "\n",
    "`\n",
    "import spam\n",
    "spam.bacon()\n",
    "`\n",
    "<br>\n",
    "This assumes that the `bacon()` function is defined at the top level of the `spam` module. If `bacon()` is defined inside a class or another function within the `spam` module, you would need to use dot notation to access it."
   ]
  }
 ],
 "metadata": {
  "kernelspec": {
   "display_name": "Python 3 (ipykernel)",
   "language": "python",
   "name": "python3"
  },
  "language_info": {
   "codemirror_mode": {
    "name": "ipython",
    "version": 3
   },
   "file_extension": ".py",
   "mimetype": "text/x-python",
   "name": "python",
   "nbconvert_exporter": "python",
   "pygments_lexer": "ipython3",
   "version": "3.9.12"
  }
 },
 "nbformat": 4,
 "nbformat_minor": 5
}
