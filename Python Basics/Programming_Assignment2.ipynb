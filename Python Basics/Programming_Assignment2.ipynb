{
 "cells": [
  {
   "attachments": {},
   "cell_type": "markdown",
   "metadata": {},
   "source": [
    "\n",
    "1. Write a Python program to convert kilometers to miles?"
   ]
  },
  {
   "cell_type": "code",
   "execution_count": 1,
   "metadata": {},
   "outputs": [
    {
     "name": "stdout",
     "output_type": "stream",
     "text": [
      "The distance in miles is 3.106855\n"
     ]
    }
   ],
   "source": [
    "# Get the input from the user.\n",
    "kilometers = float(input(\"Enter the distance in kilometers: \"))\n",
    "\n",
    "# Calculate the miles.\n",
    "miles = kilometers * 0.621371\n",
    "\n",
    "# Display the result.\n",
    "print(\"The distance in miles is\", miles)"
   ]
  },
  {
   "attachments": {},
   "cell_type": "markdown",
   "metadata": {},
   "source": [
    "2. Write a Python program to convert Celsius to Fahrenheit?"
   ]
  },
  {
   "cell_type": "code",
   "execution_count": 2,
   "metadata": {},
   "outputs": [
    {
     "name": "stdout",
     "output_type": "stream",
     "text": [
      "The temperature in Fahrenheit is 75.2\n"
     ]
    }
   ],
   "source": [
    "# Get the input from the user.\n",
    "celsius = float(input(\"Enter the temperature in Celsius: \"))\n",
    "\n",
    "# Calculate the Fahrenheit.\n",
    "fahrenheit = (celsius * 9) / 5 + 32\n",
    "\n",
    "# Display the result.\n",
    "print(\"The temperature in Fahrenheit is\", fahrenheit)\n"
   ]
  },
  {
   "attachments": {},
   "cell_type": "markdown",
   "metadata": {},
   "source": [
    "3. Write a Python program to display calendar?"
   ]
  },
  {
   "cell_type": "code",
   "execution_count": 6,
   "metadata": {},
   "outputs": [
    {
     "name": "stdout",
     "output_type": "stream",
     "text": [
      "    August 2045\n",
      "Mo Tu We Th Fr Sa Su\n",
      "    1  2  3  4  5  6\n",
      " 7  8  9 10 11 12 13\n",
      "14 15 16 17 18 19 20\n",
      "21 22 23 24 25 26 27\n",
      "28 29 30 31\n",
      "\n"
     ]
    }
   ],
   "source": [
    "# Import the calendar module.\n",
    "import calendar\n",
    "\n",
    "# Get the current month and year.\n",
    "month = int(input(\"Enter the month : \"))\n",
    "year = int(input(\"Enter the year : \"))\n",
    "\n",
    "# Print the calendar.\n",
    "print(calendar.month(year, month))\n"
   ]
  },
  {
   "attachments": {},
   "cell_type": "markdown",
   "metadata": {},
   "source": [
    "4. Write a Python program to solve quadratic equation?"
   ]
  },
  {
   "cell_type": "code",
   "execution_count": 7,
   "metadata": {},
   "outputs": [
    {
     "name": "stdout",
     "output_type": "stream",
     "text": [
      "The roots are 5.0 and 2.0\n"
     ]
    }
   ],
   "source": [
    "# Get the coefficients of the equation from the user.\n",
    "a = float(input(\"Enter the coefficient of x^2: \"))\n",
    "b = float(input(\"Enter the coefficient of x: \"))\n",
    "c = float(input(\"Enter the constant term: \"))\n",
    "\n",
    "# Solve the equation.\n",
    "d = b**2 - 4*a*c\n",
    "\n",
    "# If the discriminant is negative, there are no real roots.\n",
    "if d < 0:\n",
    "    print(\"There are no real roots.\")\n",
    "\n",
    "# If the discriminant is zero, there is one repeated root.\n",
    "elif d == 0:\n",
    "    root = -b / (2*a)\n",
    "    print(\"The root is\", root)\n",
    "\n",
    "# If the discriminant is positive, there are two real roots.\n",
    "else:\n",
    "    root1 = (-b + d**0.5) / (2*a)\n",
    "    root2 = (-b - d**0.5) / (2*a)\n",
    "    print(\"The roots are\", root1, \"and\", root2)"
   ]
  },
  {
   "attachments": {},
   "cell_type": "markdown",
   "metadata": {},
   "source": [
    "5. Write a Python program to swap two variables without temp variable?"
   ]
  },
  {
   "cell_type": "code",
   "execution_count": 8,
   "metadata": {},
   "outputs": [
    {
     "name": "stdout",
     "output_type": "stream",
     "text": [
      "The first number is 5\n",
      "The second number is 10\n"
     ]
    }
   ],
   "source": [
    "# Get the two variables from the user.\n",
    "a = int(input(\"Enter the first number: \"))\n",
    "b = int(input(\"Enter the second number: \"))\n",
    "\n",
    "# Swap the values.\n",
    "a = a + b\n",
    "b = a - b\n",
    "a = a - b\n",
    "\n",
    "# Display the swapped values.\n",
    "print(\"The first number is\", a)\n",
    "print(\"The second number is\", b)\n"
   ]
  }
 ],
 "metadata": {
  "kernelspec": {
   "display_name": "base",
   "language": "python",
   "name": "python3"
  },
  "language_info": {
   "codemirror_mode": {
    "name": "ipython",
    "version": 3
   },
   "file_extension": ".py",
   "mimetype": "text/x-python",
   "name": "python",
   "nbconvert_exporter": "python",
   "pygments_lexer": "ipython3",
   "version": "3.9.12"
  },
  "orig_nbformat": 4
 },
 "nbformat": 4,
 "nbformat_minor": 2
}
